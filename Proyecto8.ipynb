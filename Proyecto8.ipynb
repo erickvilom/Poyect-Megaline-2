{
 "cells": [
  {
   "cell_type": "markdown",
   "metadata": {},
   "source": [
    "# PROYECTO 8"
   ]
  },
  {
   "cell_type": "markdown",
   "metadata": {},
   "source": [
    "# Introducción"
   ]
  },
  {
   "cell_type": "markdown",
   "metadata": {},
   "source": [
    "En este proyecto tenemos como objetivo desarrollar un modelo para la compañía Megaline que pueda analizar el comportamiento de sus clientes y recomendar uno de los nuevos planes telefónicos, todo esto con la mayor precisión posible tratando de superar el umbral de exactitud  0.75.\n",
    "\n",
    "Para este trabajo utilizaremos los datos de comportamiento de los suscriptores que ya se han migrado a alguno de los nuevos planes.\n"
   ]
  },
  {
   "cell_type": "markdown",
   "metadata": {},
   "source": [
    "# Carga de Datasets e Importación de Librerias"
   ]
  },
  {
   "cell_type": "code",
   "execution_count": 1,
   "metadata": {},
   "outputs": [],
   "source": [
    "import pandas as pd\n",
    "from sklearn.metrics import mean_squared_error\n",
    "from sklearn.tree import DecisionTreeClassifier\n",
    "from sklearn.ensemble import RandomForestClassifier\n",
    "from sklearn.linear_model import LogisticRegression\n",
    "from sklearn.model_selection import train_test_split\n",
    "from sklearn.metrics import accuracy_score"
   ]
  },
  {
   "cell_type": "code",
   "execution_count": 2,
   "metadata": {},
   "outputs": [],
   "source": [
    "df = pd.read_csv('/datasets/users_behavior_upd.csv')"
   ]
  },
  {
   "cell_type": "markdown",
   "metadata": {},
   "source": [
    "# Exploración Inicial de Datos"
   ]
  },
  {
   "cell_type": "code",
   "execution_count": 3,
   "metadata": {},
   "outputs": [
    {
     "data": {
      "text/html": [
       "<div>\n",
       "<style scoped>\n",
       "    .dataframe tbody tr th:only-of-type {\n",
       "        vertical-align: middle;\n",
       "    }\n",
       "\n",
       "    .dataframe tbody tr th {\n",
       "        vertical-align: top;\n",
       "    }\n",
       "\n",
       "    .dataframe thead th {\n",
       "        text-align: right;\n",
       "    }\n",
       "</style>\n",
       "<table border=\"1\" class=\"dataframe\">\n",
       "  <thead>\n",
       "    <tr style=\"text-align: right;\">\n",
       "      <th></th>\n",
       "      <th>calls</th>\n",
       "      <th>minutes</th>\n",
       "      <th>messages</th>\n",
       "      <th>mb_used</th>\n",
       "      <th>is_ultimate</th>\n",
       "    </tr>\n",
       "  </thead>\n",
       "  <tbody>\n",
       "    <tr>\n",
       "      <th>0</th>\n",
       "      <td>40.0</td>\n",
       "      <td>311.90</td>\n",
       "      <td>83.0</td>\n",
       "      <td>19915.42</td>\n",
       "      <td>0</td>\n",
       "    </tr>\n",
       "    <tr>\n",
       "      <th>1</th>\n",
       "      <td>85.0</td>\n",
       "      <td>516.75</td>\n",
       "      <td>56.0</td>\n",
       "      <td>22696.96</td>\n",
       "      <td>0</td>\n",
       "    </tr>\n",
       "    <tr>\n",
       "      <th>2</th>\n",
       "      <td>77.0</td>\n",
       "      <td>467.66</td>\n",
       "      <td>86.0</td>\n",
       "      <td>21060.45</td>\n",
       "      <td>0</td>\n",
       "    </tr>\n",
       "    <tr>\n",
       "      <th>3</th>\n",
       "      <td>106.0</td>\n",
       "      <td>745.53</td>\n",
       "      <td>81.0</td>\n",
       "      <td>8437.39</td>\n",
       "      <td>1</td>\n",
       "    </tr>\n",
       "    <tr>\n",
       "      <th>4</th>\n",
       "      <td>66.0</td>\n",
       "      <td>418.74</td>\n",
       "      <td>1.0</td>\n",
       "      <td>14502.75</td>\n",
       "      <td>0</td>\n",
       "    </tr>\n",
       "    <tr>\n",
       "      <th>...</th>\n",
       "      <td>...</td>\n",
       "      <td>...</td>\n",
       "      <td>...</td>\n",
       "      <td>...</td>\n",
       "      <td>...</td>\n",
       "    </tr>\n",
       "    <tr>\n",
       "      <th>3209</th>\n",
       "      <td>122.0</td>\n",
       "      <td>910.98</td>\n",
       "      <td>20.0</td>\n",
       "      <td>35124.90</td>\n",
       "      <td>1</td>\n",
       "    </tr>\n",
       "    <tr>\n",
       "      <th>3210</th>\n",
       "      <td>25.0</td>\n",
       "      <td>190.36</td>\n",
       "      <td>0.0</td>\n",
       "      <td>3275.61</td>\n",
       "      <td>0</td>\n",
       "    </tr>\n",
       "    <tr>\n",
       "      <th>3211</th>\n",
       "      <td>97.0</td>\n",
       "      <td>634.44</td>\n",
       "      <td>70.0</td>\n",
       "      <td>13974.06</td>\n",
       "      <td>0</td>\n",
       "    </tr>\n",
       "    <tr>\n",
       "      <th>3212</th>\n",
       "      <td>64.0</td>\n",
       "      <td>462.32</td>\n",
       "      <td>90.0</td>\n",
       "      <td>31239.78</td>\n",
       "      <td>0</td>\n",
       "    </tr>\n",
       "    <tr>\n",
       "      <th>3213</th>\n",
       "      <td>80.0</td>\n",
       "      <td>566.09</td>\n",
       "      <td>6.0</td>\n",
       "      <td>29480.52</td>\n",
       "      <td>1</td>\n",
       "    </tr>\n",
       "  </tbody>\n",
       "</table>\n",
       "<p>3214 rows × 5 columns</p>\n",
       "</div>"
      ],
      "text/plain": [
       "      calls  minutes  messages   mb_used  is_ultimate\n",
       "0      40.0   311.90      83.0  19915.42            0\n",
       "1      85.0   516.75      56.0  22696.96            0\n",
       "2      77.0   467.66      86.0  21060.45            0\n",
       "3     106.0   745.53      81.0   8437.39            1\n",
       "4      66.0   418.74       1.0  14502.75            0\n",
       "...     ...      ...       ...       ...          ...\n",
       "3209  122.0   910.98      20.0  35124.90            1\n",
       "3210   25.0   190.36       0.0   3275.61            0\n",
       "3211   97.0   634.44      70.0  13974.06            0\n",
       "3212   64.0   462.32      90.0  31239.78            0\n",
       "3213   80.0   566.09       6.0  29480.52            1\n",
       "\n",
       "[3214 rows x 5 columns]"
      ]
     },
     "execution_count": 3,
     "metadata": {},
     "output_type": "execute_result"
    }
   ],
   "source": [
    "df"
   ]
  },
  {
   "cell_type": "code",
   "execution_count": 4,
   "metadata": {},
   "outputs": [
    {
     "name": "stdout",
     "output_type": "stream",
     "text": [
      "<class 'pandas.core.frame.DataFrame'>\n",
      "RangeIndex: 3214 entries, 0 to 3213\n",
      "Data columns (total 5 columns):\n",
      " #   Column       Non-Null Count  Dtype  \n",
      "---  ------       --------------  -----  \n",
      " 0   calls        3214 non-null   float64\n",
      " 1   minutes      3214 non-null   float64\n",
      " 2   messages     3214 non-null   float64\n",
      " 3   mb_used      3214 non-null   float64\n",
      " 4   is_ultimate  3214 non-null   int64  \n",
      "dtypes: float64(4), int64(1)\n",
      "memory usage: 125.7 KB\n"
     ]
    },
    {
     "data": {
      "text/html": [
       "<div>\n",
       "<style scoped>\n",
       "    .dataframe tbody tr th:only-of-type {\n",
       "        vertical-align: middle;\n",
       "    }\n",
       "\n",
       "    .dataframe tbody tr th {\n",
       "        vertical-align: top;\n",
       "    }\n",
       "\n",
       "    .dataframe thead th {\n",
       "        text-align: right;\n",
       "    }\n",
       "</style>\n",
       "<table border=\"1\" class=\"dataframe\">\n",
       "  <thead>\n",
       "    <tr style=\"text-align: right;\">\n",
       "      <th></th>\n",
       "      <th>calls</th>\n",
       "      <th>minutes</th>\n",
       "      <th>messages</th>\n",
       "      <th>mb_used</th>\n",
       "      <th>is_ultimate</th>\n",
       "    </tr>\n",
       "  </thead>\n",
       "  <tbody>\n",
       "    <tr>\n",
       "      <th>count</th>\n",
       "      <td>3214.000000</td>\n",
       "      <td>3214.000000</td>\n",
       "      <td>3214.000000</td>\n",
       "      <td>3214.000000</td>\n",
       "      <td>3214.000000</td>\n",
       "    </tr>\n",
       "    <tr>\n",
       "      <th>mean</th>\n",
       "      <td>63.038892</td>\n",
       "      <td>438.208787</td>\n",
       "      <td>38.281269</td>\n",
       "      <td>17207.673836</td>\n",
       "      <td>0.306472</td>\n",
       "    </tr>\n",
       "    <tr>\n",
       "      <th>std</th>\n",
       "      <td>33.236368</td>\n",
       "      <td>234.569872</td>\n",
       "      <td>36.148326</td>\n",
       "      <td>7570.968246</td>\n",
       "      <td>0.461100</td>\n",
       "    </tr>\n",
       "    <tr>\n",
       "      <th>min</th>\n",
       "      <td>0.000000</td>\n",
       "      <td>0.000000</td>\n",
       "      <td>0.000000</td>\n",
       "      <td>0.000000</td>\n",
       "      <td>0.000000</td>\n",
       "    </tr>\n",
       "    <tr>\n",
       "      <th>25%</th>\n",
       "      <td>40.000000</td>\n",
       "      <td>274.575000</td>\n",
       "      <td>9.000000</td>\n",
       "      <td>12491.902500</td>\n",
       "      <td>0.000000</td>\n",
       "    </tr>\n",
       "    <tr>\n",
       "      <th>50%</th>\n",
       "      <td>62.000000</td>\n",
       "      <td>430.600000</td>\n",
       "      <td>30.000000</td>\n",
       "      <td>16943.235000</td>\n",
       "      <td>0.000000</td>\n",
       "    </tr>\n",
       "    <tr>\n",
       "      <th>75%</th>\n",
       "      <td>82.000000</td>\n",
       "      <td>571.927500</td>\n",
       "      <td>57.000000</td>\n",
       "      <td>21424.700000</td>\n",
       "      <td>1.000000</td>\n",
       "    </tr>\n",
       "    <tr>\n",
       "      <th>max</th>\n",
       "      <td>244.000000</td>\n",
       "      <td>1632.060000</td>\n",
       "      <td>224.000000</td>\n",
       "      <td>49745.730000</td>\n",
       "      <td>1.000000</td>\n",
       "    </tr>\n",
       "  </tbody>\n",
       "</table>\n",
       "</div>"
      ],
      "text/plain": [
       "             calls      minutes     messages       mb_used  is_ultimate\n",
       "count  3214.000000  3214.000000  3214.000000   3214.000000  3214.000000\n",
       "mean     63.038892   438.208787    38.281269  17207.673836     0.306472\n",
       "std      33.236368   234.569872    36.148326   7570.968246     0.461100\n",
       "min       0.000000     0.000000     0.000000      0.000000     0.000000\n",
       "25%      40.000000   274.575000     9.000000  12491.902500     0.000000\n",
       "50%      62.000000   430.600000    30.000000  16943.235000     0.000000\n",
       "75%      82.000000   571.927500    57.000000  21424.700000     1.000000\n",
       "max     244.000000  1632.060000   224.000000  49745.730000     1.000000"
      ]
     },
     "execution_count": 4,
     "metadata": {},
     "output_type": "execute_result"
    }
   ],
   "source": [
    "df.info()\n",
    "df.head()\n",
    "df.describe()"
   ]
  },
  {
   "cell_type": "markdown",
   "metadata": {},
   "source": [
    "# "
   ]
  },
  {
   "cell_type": "markdown",
   "metadata": {},
   "source": [
    "# División de los datos en conjuntos de entrenamiento, validación y prueba"
   ]
  },
  {
   "cell_type": "code",
   "execution_count": 32,
   "metadata": {},
   "outputs": [
    {
     "name": "stdout",
     "output_type": "stream",
     "text": [
      "Tamaño del conjunto de entrenamiento: 2249\n",
      "Tamaño del conjunto de prueba: 483\n",
      "Tamaño del conjunto de validación: 482\n"
     ]
    }
   ],
   "source": [
    "train_ratio = 0.7 \n",
    "val_ratio = 0.15 \n",
    "test_ratio = 0.15\n",
    "\n",
    "train_data, test_data = train_test_split(df, test_size=test_ratio, random_state=42)\n",
    "\n",
    "train_data, val_data = train_test_split(train_data, test_size=val_ratio/(train_ratio+val_ratio), random_state=42)\n",
    "\n",
    "print(\"Tamaño del conjunto de entrenamiento:\", len(train_data))\n",
    "print(\"Tamaño del conjunto de prueba:\", len(test_data))\n",
    "print(\"Tamaño del conjunto de validación:\", len(val_data))"
   ]
  },
  {
   "cell_type": "markdown",
   "metadata": {},
   "source": [
    "La división de los datos es importante para garantizar una evaluación confiable del desempeño del modelo evitando el sobreajuste y error; En este código, utilicé la función train_test_split de scikit-learn para dividir los datos en conjuntos de entrenamiento, validación y prueba y establecí la proporción en 70% para capacitación, 15% para validación y 15% para pruebas."
   ]
  },
  {
   "cell_type": "markdown",
   "metadata": {},
   "source": [
    "# Formación y evaluación de modelos"
   ]
  },
  {
   "cell_type": "code",
   "execution_count": 6,
   "metadata": {},
   "outputs": [
    {
     "data": {
      "text/plain": [
       "Index(['calls', 'minutes', 'messages', 'mb_used', 'is_ultimate'], dtype='object')"
      ]
     },
     "execution_count": 6,
     "metadata": {},
     "output_type": "execute_result"
    }
   ],
   "source": [
    "df.columns"
   ]
  },
  {
   "cell_type": "code",
   "execution_count": 7,
   "metadata": {},
   "outputs": [],
   "source": [
    "train_features = train_data.drop(\"is_ultimate\", axis=1)\n",
    "train_target = train_data[\"is_ultimate\"]\n",
    "\n",
    "test_features = test_data.drop(\"is_ultimate\", axis=1)\n",
    "test_target = test_data[\"is_ultimate\"]\n",
    "\n",
    "val_features = val_data.drop(\"is_ultimate\", axis=1)\n",
    "val_target = val_data[\"is_ultimate\"]"
   ]
  },
  {
   "cell_type": "markdown",
   "metadata": {},
   "source": [
    "Antes de comenzar  a probar la calidad y resultados de distintos modelos debemos separar los conjuntos de características en este caso contenidos en todas las columnas excepto is_ultimate de los valores de la columna de destino que es precisamente esta última, de ahí obtenemos train_features, test_features, val_features y train_target, test_target, val_target."
   ]
  },
  {
   "cell_type": "markdown",
   "metadata": {},
   "source": [
    "# Investigación de la calidad de diferentes modelos."
   ]
  },
  {
   "cell_type": "markdown",
   "metadata": {},
   "source": [
    "Árbol de Decisión"
   ]
  },
  {
   "cell_type": "code",
   "execution_count": 35,
   "metadata": {},
   "outputs": [
    {
     "name": "stdout",
     "output_type": "stream",
     "text": [
      "Precisión del modelo de árbol de decisión: 0.7240663900414938\n"
     ]
    }
   ],
   "source": [
    "decision_tree = DecisionTreeClassifier()\n",
    "\n",
    "decision_tree.fit(train_features, train_target)\n",
    "\n",
    "tree_val_accuracy = decision_tree.score(val_features, val_target)\n",
    "print(\"Precisión del modelo de árbol de decisión:\", tree_val_accuracy)"
   ]
  },
  {
   "cell_type": "markdown",
   "metadata": {},
   "source": [
    "Random Forest"
   ]
  },
  {
   "cell_type": "code",
   "execution_count": 36,
   "metadata": {},
   "outputs": [
    {
     "name": "stdout",
     "output_type": "stream",
     "text": [
      "Precisión del modelo de random forest: 0.7780082987551867\n"
     ]
    }
   ],
   "source": [
    "random_forest = RandomForestClassifier()\n",
    "\n",
    "random_forest.fit(train_features, train_target)\n",
    "\n",
    "forest_val_accuracy = random_forest.score(val_features, val_target)\n",
    "print(\"Precisión del modelo de random forest:\", forest_val_accuracy)"
   ]
  },
  {
   "cell_type": "markdown",
   "metadata": {},
   "source": [
    "Regresión Logística"
   ]
  },
  {
   "cell_type": "code",
   "execution_count": 37,
   "metadata": {},
   "outputs": [
    {
     "name": "stdout",
     "output_type": "stream",
     "text": [
      "Precisión del modelo de regresión logística: 0.6846473029045643\n"
     ]
    }
   ],
   "source": [
    "logistic_regression = LogisticRegression()\n",
    "\n",
    "logistic_regression.fit(train_features, train_target)\n",
    "\n",
    "logistic_val_accuracy = logistic_regression.score(val_features, val_target)\n",
    "print(\"Precisión del modelo de regresión logística:\", logistic_val_accuracy)"
   ]
  },
  {
   "cell_type": "markdown",
   "metadata": {},
   "source": [
    "En base a los resultados podemos observar lo siguiente:\n",
    "\n",
    "Árbol de decisión: obtuvo un resultado de 0.724 aproximadamente lo cual me parece un buen resultado, sin embargo, no alcanzamos el parámetro mínimo deseado de 0.75 por lo que mas adelante ajustaremos los hiperparámetros para ver si obtenemos un mejor resultado.\n",
    "\n",
    "Random Forest: de todos fue el que mejor resultado arrojó dando un resultado aproximado de 0.778 cumplindo con el objetivo del 0.75 mínimo pero aún asi igual ajustaremos los hiperparámetros para ver si puede mejorar aun más.\n",
    "\n",
    "Regresión logística: Fue el que peor resultado arrojo de los 3 por lo cual no creo que sea el modelo indicado, sin embargo, tambíén haremos modificaciones a los hiperparámetros para ver si logramos una mejor precisión.\n"
   ]
  },
  {
   "cell_type": "markdown",
   "metadata": {},
   "source": [
    "# Cambio de hiperparámetros"
   ]
  },
  {
   "cell_type": "markdown",
   "metadata": {},
   "source": [
    "# Árbol de decisión"
   ]
  },
  {
   "cell_type": "markdown",
   "metadata": {},
   "source": [
    "max_depth: controla la profundidad máxima del árbol y aumentar este valor puede provocar un sobreajuste, mientras que disminuirlo puede provocar un desajuste.\n",
    "\n",
    "min_samples_split: define el número mínimo de muestras necesarias para dividir un nodo del árbol interno. \n",
    "\n",
    "min_samples_leaf: define el número mínimo de muestras necesarias en una hoja del árbol, al aumentar este valor y el valor anterior se puede evitar el sobreajuste."
   ]
  },
  {
   "cell_type": "code",
   "execution_count": 39,
   "metadata": {},
   "outputs": [
    {
     "name": "stdout",
     "output_type": "stream",
     "text": [
      "Precisión del modelo de árbol de decisión: 0.7676348547717843\n"
     ]
    }
   ],
   "source": [
    "decision_tree = DecisionTreeClassifier(max_depth=10, min_samples_split=2, min_samples_leaf=1)\n",
    "\n",
    "decision_tree.fit(train_features, train_target)\n",
    "\n",
    "tree_val_accuracy = decision_tree.score(val_features, val_target)\n",
    "\n",
    "print(\"Precisión del modelo de árbol de decisión:\", tree_val_accuracy)"
   ]
  },
  {
   "cell_type": "code",
   "execution_count": 12,
   "metadata": {},
   "outputs": [
    {
     "name": "stdout",
     "output_type": "stream",
     "text": [
      "Precisión para min_samples_leaf=2, min_samples_split=2: 0.7697095435684648\n",
      "Precisión para min_samples_leaf=2, min_samples_split=3: 0.7593360995850622\n",
      "Precisión para min_samples_leaf=2, min_samples_split=4: 0.7697095435684648\n",
      "Precisión para min_samples_leaf=3, min_samples_split=2: 0.7614107883817427\n",
      "Precisión para min_samples_leaf=3, min_samples_split=3: 0.7572614107883817\n",
      "Precisión para min_samples_leaf=3, min_samples_split=4: 0.7614107883817427\n",
      "Precisión para min_samples_leaf=4, min_samples_split=2: 0.7655601659751037\n",
      "Precisión para min_samples_leaf=4, min_samples_split=3: 0.7634854771784232\n",
      "Precisión para min_samples_leaf=4, min_samples_split=4: 0.7614107883817427\n"
     ]
    }
   ],
   "source": [
    "min_samples_leaf_values = [2, 3, 4]\n",
    "min_samples_split_values = [2, 3, 4]\n",
    "\n",
    "accuracy_scores = {}\n",
    "\n",
    "for min_samples_leaf in min_samples_leaf_values:\n",
    "    \n",
    "     for min_samples_split in min_samples_split_values:\n",
    "            \n",
    "         decision_tree = DecisionTreeClassifier(max_depth=10, min_samples_split=min_samples_split, min_samples_leaf=min_samples_leaf)\n",
    "        \n",
    "         \n",
    "         decision_tree.fit(train_features, train_target)\n",
    "        \n",
    "         \n",
    "         val_accuracy = decision_tree.score(val_features, val_target)\n",
    "        \n",
    "         \n",
    "         accuracy_scores[(min_samples_leaf, min_samples_split)] = val_accuracy\n",
    "\n",
    "\n",
    "for params, accuracy in accuracy_scores.items():\n",
    "     min_samples_leaf, min_samples_split = params\n",
    "     print(f\"Precisión para min_samples_leaf={min_samples_leaf}, min_samples_split={min_samples_split}: {accuracy}\")"
   ]
  },
  {
   "cell_type": "markdown",
   "metadata": {},
   "source": [
    "Los cambios en los hiperparámetros min_samples_leaf y min_samples_split no dieron como resultado una mejora significativa en la precisión del modelo de árbol de decisión en el conjunto de validación. La precisión más alta obtenida con las combinaciones probadas es 0,7697, pero aún está cerca de la precisión anterior de 0,7676 así que mantendré los valores más altos de los hiperparámetros antes mencionados  y ahora intentaré un bucle for para el hiperparámetro max_ depth."
   ]
  },
  {
   "cell_type": "code",
   "execution_count": 45,
   "metadata": {},
   "outputs": [
    {
     "name": "stdout",
     "output_type": "stream",
     "text": [
      "Precisión para max_depth=5: 0.7406639004149378\n",
      "Precisión para max_depth=10: 0.7655601659751037\n",
      "Precisión para max_depth=15: 0.7572614107883817\n",
      "Precisión para max_depth=20: 0.7344398340248963\n"
     ]
    }
   ],
   "source": [
    "max_depth_values = [5, 10, 15, 20]\n",
    "\n",
    "for depth in max_depth_values:\n",
    "    decision_tree = DecisionTreeClassifier(max_depth=depth, min_samples_split=4, min_samples_leaf=2)\n",
    "    decision_tree.fit(train_features, train_target)\n",
    "    val_accuracy = decision_tree.score(val_features, val_target)\n",
    "    print(\"Precisión para max_depth={}:\".format(depth), val_accuracy)"
   ]
  },
  {
   "cell_type": "markdown",
   "metadata": {},
   "source": [
    "El valor max_depth=10 da como resultado la mayor precisión en el conjunto de validación, entonces, para el árbol de decisión mantendré este valor."
   ]
  },
  {
   "cell_type": "markdown",
   "metadata": {},
   "source": [
    "# Random Forest"
   ]
  },
  {
   "cell_type": "markdown",
   "metadata": {},
   "source": [
    "max_features: controla la cantidad de características consideradas en cada división de un nodo.\n",
    "\n",
    "max_ depth: controla la profundidad máxima de cada árbol en el bosque.\n",
    "\n",
    "min_samples_split: define el número mínimo de muestras necesarias para dividir un nodo interno de cada árbol.\n",
    "\n",
    "min_samples_leaf: define el número mínimo de muestras necesarias en una hoja de cada árbol.\n"
   ]
  },
  {
   "cell_type": "code",
   "execution_count": 14,
   "metadata": {},
   "outputs": [
    {
     "name": "stdout",
     "output_type": "stream",
     "text": [
      "Precisión del modelo de random forest: 0.7780082987551867\n"
     ]
    }
   ],
   "source": [
    "random_forest = RandomForestClassifier(n_estimators=100, max_depth=10, min_samples_split=2, min_samples_leaf=1)\n",
    "\n",
    "random_forest.fit(train_features, train_target)\n",
    "\n",
    "forest_val_accuracy = random_forest.score(val_features, val_target)\n",
    "\n",
    "print(\"Precisión del modelo de random forest:\", forest_val_accuracy)"
   ]
  },
  {
   "cell_type": "markdown",
   "metadata": {},
   "source": [
    "La precisión del modelo de bosque aleatorio para clasificación en el conjunto de validación es de 0.7800 aproximadamente pero usaré bucles for para probar diferentes combinaciones de hiperparámetros en el modelo random forest."
   ]
  },
  {
   "cell_type": "code",
   "execution_count": 15,
   "metadata": {},
   "outputs": [
    {
     "name": "stdout",
     "output_type": "stream",
     "text": [
      "precisión para min_samples_leaf=2, min_samples_split=2: 0.7800829875518672\n",
      "precisión para min_samples_leaf=2, min_samples_split=3: 0.7800829875518672\n",
      "precisión para min_samples_leaf=2, min_samples_split=4: 0.7800829875518672\n",
      "precisión para min_samples_leaf=3, min_samples_split=2: 0.7717842323651453\n",
      "precisión para min_samples_leaf=3, min_samples_split=3: 0.7800829875518672\n",
      "precisión para min_samples_leaf=3, min_samples_split=4: 0.7780082987551867\n",
      "precisión para min_samples_leaf=4, min_samples_split=2: 0.7780082987551867\n",
      "precisión para min_samples_leaf=4, min_samples_split=3: 0.7738589211618258\n",
      "precisión para min_samples_leaf=4, min_samples_split=4: 0.7821576763485477\n",
      "\n",
      "Mejor combinación de hiperparámetros:\n",
      "min_samples_leaf:  4\n",
      "min_samples_split:  4\n",
      "precisión:  0.7821576763485477\n"
     ]
    }
   ],
   "source": [
    "min_samples_leaf_values = [2, 3, 4]\n",
    "min_samples_split_values = [2, 3, 4]\n",
    "\n",
    "best_accuracy = 0.0\n",
    "best_min_samples_leaf = None\n",
    "best_min_samples_split = None\n",
    "\n",
    "for min_samples_leaf in min_samples_leaf_values:\n",
    "    for min_samples_split in min_samples_split_values:\n",
    "        \n",
    "        random_forest = RandomForestClassifier(n_estimators=100, max_depth=10, min_samples_split=min_samples_split, min_samples_leaf=min_samples_leaf)\n",
    "\n",
    "        \n",
    "        random_forest.fit(train_features, train_target)\n",
    "\n",
    "        \n",
    "        forest_val_accuracy = random_forest.score(val_features, val_target)\n",
    "\n",
    "        print(\"precisión para min_samples_leaf={}, min_samples_split={}: {}\".format(min_samples_leaf, min_samples_split, forest_val_accuracy))\n",
    "\n",
    "        \n",
    "        if forest_val_accuracy > best_accuracy:\n",
    "            best_accuracy = forest_val_accuracy\n",
    "            best_min_samples_leaf = min_samples_leaf\n",
    "            best_min_samples_split = min_samples_split\n",
    "\n",
    "print(\"\\nMejor combinación de hiperparámetros:\")\n",
    "print(\"min_samples_leaf: \", best_min_samples_leaf)\n",
    "print(\"min_samples_split: \", best_min_samples_split)\n",
    "print(\"precisión: \", best_accuracy)"
   ]
  },
  {
   "cell_type": "markdown",
   "metadata": {},
   "source": [
    "Ahora probaré diferentes combinaciones de hiperparámetros con n_estimators, max_features y max_ depth."
   ]
  },
  {
   "cell_type": "code",
   "execution_count": 16,
   "metadata": {},
   "outputs": [
    {
     "name": "stdout",
     "output_type": "stream",
     "text": [
      "precisión para n_estimators=50, max_features=auto, max_depth=5: 0.7655601659751037\n",
      "precisión para n_estimators=50, max_features=auto, max_depth=10: 0.7821576763485477\n",
      "precisión para n_estimators=50, max_features=auto, max_depth=15: 0.7863070539419087\n",
      "precisión para n_estimators=50, max_features=sqrt, max_depth=5: 0.7697095435684648\n",
      "precisión para n_estimators=50, max_features=sqrt, max_depth=10: 0.7800829875518672\n",
      "precisión para n_estimators=50, max_features=sqrt, max_depth=15: 0.7800829875518672\n",
      "precisión para n_estimators=50, max_features=log2, max_depth=5: 0.7655601659751037\n",
      "precisión para n_estimators=50, max_features=log2, max_depth=10: 0.7759336099585062\n",
      "precisión para n_estimators=50, max_features=log2, max_depth=15: 0.7800829875518672\n",
      "precisión para n_estimators=100, max_features=auto, max_depth=5: 0.7655601659751037\n",
      "precisión para n_estimators=100, max_features=auto, max_depth=10: 0.7780082987551867\n",
      "precisión para n_estimators=100, max_features=auto, max_depth=15: 0.7780082987551867\n",
      "precisión para n_estimators=100, max_features=sqrt, max_depth=5: 0.7676348547717843\n",
      "precisión para n_estimators=100, max_features=sqrt, max_depth=10: 0.7800829875518672\n",
      "precisión para n_estimators=100, max_features=sqrt, max_depth=15: 0.7759336099585062\n",
      "precisión para n_estimators=100, max_features=log2, max_depth=5: 0.7614107883817427\n",
      "precisión para n_estimators=100, max_features=log2, max_depth=10: 0.7738589211618258\n",
      "precisión para n_estimators=100, max_features=log2, max_depth=15: 0.7800829875518672\n",
      "precisión para n_estimators=150, max_features=auto, max_depth=5: 0.7676348547717843\n",
      "precisión para n_estimators=150, max_features=auto, max_depth=10: 0.7738589211618258\n",
      "precisión para n_estimators=150, max_features=auto, max_depth=15: 0.7780082987551867\n",
      "precisión para n_estimators=150, max_features=sqrt, max_depth=5: 0.7676348547717843\n",
      "precisión para n_estimators=150, max_features=sqrt, max_depth=10: 0.7800829875518672\n",
      "precisión para n_estimators=150, max_features=sqrt, max_depth=15: 0.7821576763485477\n",
      "precisión para n_estimators=150, max_features=log2, max_depth=5: 0.7676348547717843\n",
      "precisión para n_estimators=150, max_features=log2, max_depth=10: 0.7800829875518672\n",
      "precisión para n_estimators=150, max_features=log2, max_depth=15: 0.7842323651452282\n",
      "\n",
      "Mejor combinación de hiperparámetros:\n",
      "n_estimators:  50\n",
      "max_features:  auto\n",
      "max_depth:  15\n",
      "precisión:  0.7863070539419087\n"
     ]
    }
   ],
   "source": [
    "n_estimators_values = [50, 100, 150]\n",
    "max_features_values = ['auto', 'sqrt', 'log2']\n",
    "max_depth_values = [5, 10, 15]\n",
    "\n",
    "best_accuracy = 0.0\n",
    "best_n_estimators = None\n",
    "best_max_features = None\n",
    "best_max_depth = None\n",
    "\n",
    "for n_estimators in n_estimators_values:\n",
    "    for max_features in max_features_values:\n",
    "        for max_depth in max_depth_values:\n",
    "            \n",
    "            random_forest = RandomForestClassifier(n_estimators=n_estimators, max_features=max_features, max_depth=max_depth, min_samples_split=3, min_samples_leaf=4)\n",
    "\n",
    "            \n",
    "            random_forest.fit(train_features, train_target)\n",
    "\n",
    "            \n",
    "            forest_val_accuracy = random_forest.score(val_features, val_target)\n",
    "\n",
    "            print(\"precisión para n_estimators={}, max_features={}, max_depth={}: {}\".format(n_estimators, max_features, max_depth, forest_val_accuracy))\n",
    "\n",
    "            \n",
    "            if forest_val_accuracy > best_accuracy:\n",
    "                best_accuracy = forest_val_accuracy\n",
    "                best_n_estimators = n_estimators\n",
    "                best_max_features = max_features\n",
    "                best_max_depth = max_depth\n",
    "\n",
    "print(\"\\nMejor combinación de hiperparámetros:\")\n",
    "print(\"n_estimators: \", best_n_estimators)\n",
    "print(\"max_features: \", best_max_features)\n",
    "print(\"max_depth: \", best_max_depth)\n",
    "print(\"precisión: \", best_accuracy)"
   ]
  },
  {
   "cell_type": "markdown",
   "metadata": {},
   "source": [
    "Y para asegurar que estos sean los hiperparámetros utilizados a partir de ahora, sustituiré los valores correspondientes en el código del modelo de Random Forest a continuación"
   ]
  },
  {
   "cell_type": "code",
   "execution_count": 24,
   "metadata": {},
   "outputs": [
    {
     "name": "stdout",
     "output_type": "stream",
     "text": [
      "Precisión del modelo de random forest: 0.7821576763485477\n"
     ]
    }
   ],
   "source": [
    "random_forest = RandomForestClassifier(n_estimators=25, max_features='auto', max_depth=15, min_samples_split=4, min_samples_leaf=4)\n",
    "\n",
    "\n",
    "random_forest.fit(train_features, train_target)\n",
    "\n",
    "\n",
    "forest_val_accuracy = random_forest.score(val_features, val_target)\n",
    "\n",
    "print(\"Precisión del modelo de random forest:\", forest_val_accuracy)"
   ]
  },
  {
   "cell_type": "markdown",
   "metadata": {},
   "source": [
    "# Regresión Logística"
   ]
  },
  {
   "cell_type": "markdown",
   "metadata": {},
   "source": [
    "C: será el parámetro de regularización inversa que controla la fuerza de la regularización. \n",
    "\n",
    "penalty: que será el tipo de corrección a aplicar y que puede ser \"l1\" para regularización L1, \"l2\" para regularización L2 o \"ninguno\" para no regularización.\n"
   ]
  },
  {
   "cell_type": "code",
   "execution_count": 26,
   "metadata": {},
   "outputs": [
    {
     "name": "stdout",
     "output_type": "stream",
     "text": [
      "Precisión del modelo de regresión logística: 0.6846473029045643\n"
     ]
    }
   ],
   "source": [
    "logistic_regression = LogisticRegression(C=1.0, penalty='l2')\n",
    "\n",
    "\n",
    "logistic_regression.fit(train_features, train_target)\n",
    "\n",
    "\n",
    "logistic_val_accuracy = logistic_regression.score(val_features, val_target)\n",
    "\n",
    "print(\"Precisión del modelo de regresión logística:\", logistic_val_accuracy)"
   ]
  },
  {
   "cell_type": "markdown",
   "metadata": {},
   "source": [
    "# Evaluación de la calidad del modelo"
   ]
  },
  {
   "cell_type": "markdown",
   "metadata": {},
   "source": [
    "En el código siguiente verificaré la precisión del modelo utilizando el conjunto de validación; random_forest se refiere al modelo random forest ya entrenado, la variable val_features contiene las características del conjunto de validación y val_target contiene las etiquetas correspondientes y por último accuracy_score se utiliza para calcular la precisión del modelo que representa la proporción de predicciones correctas en relación con las predicciones totales."
   ]
  },
  {
   "cell_type": "code",
   "execution_count": 31,
   "metadata": {},
   "outputs": [
    {
     "name": "stdout",
     "output_type": "stream",
     "text": [
      "Precisión del modelo de random forest: 0.7821576763485477\n"
     ]
    }
   ],
   "source": [
    "predictions = random_forest.predict(val_features)\n",
    "\n",
    "accuracy = accuracy_score(val_target, predictions)\n",
    "print(\"Precisión del modelo de random forest:\", accuracy)"
   ]
  },
  {
   "cell_type": "markdown",
   "metadata": {},
   "source": [
    "# Prueba del modelo real"
   ]
  },
  {
   "cell_type": "markdown",
   "metadata": {},
   "source": [
    "Ahora usaré el conjunto de prueba para realizar la prueba real del modelo creado."
   ]
  },
  {
   "cell_type": "code",
   "execution_count": 30,
   "metadata": {},
   "outputs": [
    {
     "name": "stdout",
     "output_type": "stream",
     "text": [
      "Precisión del modelo de random forest: 0.8157349896480331\n"
     ]
    }
   ],
   "source": [
    "predictions = random_forest.predict(test_features)\n",
    "\n",
    "accuracy = accuracy_score(test_target, predictions)\n",
    "print(\"Precisión del modelo de random forest:\", accuracy)\n"
   ]
  },
  {
   "cell_type": "markdown",
   "metadata": {},
   "source": [
    "La precisión del modelo random forest en esta prueba fue aproximadamente del 0.815\n",
    " lo que me parece un margen de precisión bueno superando el rango impuesto del 0.75"
   ]
  },
  {
   "cell_type": "markdown",
   "metadata": {},
   "source": [
    "# Conclusión"
   ]
  },
  {
   "cell_type": "markdown",
   "metadata": {},
   "source": [
    "A lo largo de este proyecto se ha tratado de dar solución a los cuestionamientos planteados por la empresa Megaline, teniendo como objetivo principal un margen de precisión en el modelo de resultado final superior al 0.75 lo cual se ha intentado conseguir con la prueba de diferentes modelos como el modelo random forest, árbol de decisión y regresión logística, haciendo varias mediciones y pruebas además de cambiar varios hiperparámetros en todos para al final escoger el modelo con mayor precisión posible que superara el objetivo impuesto.\n",
    "\n",
    "Al final el modelo escogido fue el de random forest porque logró un margen de 0.7821 con los datos del modelo de entrenamiento y un 0.815 en la prueba real del modelo creado, siendo el que mejor resultados logró de todos los modelos probados y superando el objetivo de la empresa Megaline.\n",
    "\n",
    "\n"
   ]
  }
 ],
 "metadata": {
  "ExecuteTimeLog": [
   {
    "duration": 5671,
    "start_time": "2024-05-21T22:26:27.607Z"
   },
   {
    "duration": 18,
    "start_time": "2024-05-21T22:27:08.444Z"
   },
   {
    "duration": 29,
    "start_time": "2024-05-21T22:27:30.495Z"
   },
   {
    "duration": 38,
    "start_time": "2024-05-21T22:31:31.190Z"
   },
   {
    "duration": 363,
    "start_time": "2024-05-22T21:26:38.679Z"
   },
   {
    "duration": 5264,
    "start_time": "2024-05-22T21:26:58.872Z"
   },
   {
    "duration": 19,
    "start_time": "2024-05-22T21:27:04.141Z"
   },
   {
    "duration": 42,
    "start_time": "2024-05-22T21:27:04.163Z"
   },
   {
    "duration": 39,
    "start_time": "2024-05-22T21:27:04.209Z"
   },
   {
    "duration": 13,
    "start_time": "2024-05-22T21:27:04.251Z"
   },
   {
    "duration": 36,
    "start_time": "2024-05-22T21:29:07.581Z"
   },
   {
    "duration": 5,
    "start_time": "2024-05-22T22:00:45.225Z"
   },
   {
    "duration": 8,
    "start_time": "2024-05-22T22:02:29.149Z"
   },
   {
    "duration": 25,
    "start_time": "2024-05-22T22:05:36.105Z"
   },
   {
    "duration": 614,
    "start_time": "2024-05-22T22:06:49.613Z"
   },
   {
    "duration": 29,
    "start_time": "2024-05-22T22:07:46.021Z"
   },
   {
    "duration": 22,
    "start_time": "2024-05-22T22:27:07.442Z"
   },
   {
    "duration": 123,
    "start_time": "2024-05-22T22:29:15.783Z"
   },
   {
    "duration": 62,
    "start_time": "2024-05-22T22:30:42.267Z"
   },
   {
    "duration": 308,
    "start_time": "2024-05-23T16:53:20.882Z"
   },
   {
    "duration": 5199,
    "start_time": "2024-05-23T16:53:32.058Z"
   },
   {
    "duration": 20,
    "start_time": "2024-05-23T16:53:37.260Z"
   },
   {
    "duration": 22,
    "start_time": "2024-05-23T16:53:37.283Z"
   },
   {
    "duration": 53,
    "start_time": "2024-05-23T16:53:37.308Z"
   },
   {
    "duration": 13,
    "start_time": "2024-05-23T16:53:37.364Z"
   },
   {
    "duration": 6,
    "start_time": "2024-05-23T16:53:37.379Z"
   },
   {
    "duration": 44,
    "start_time": "2024-05-23T16:53:37.388Z"
   },
   {
    "duration": 25,
    "start_time": "2024-05-23T16:53:37.435Z"
   },
   {
    "duration": 609,
    "start_time": "2024-05-23T16:53:37.996Z"
   },
   {
    "duration": 30,
    "start_time": "2024-05-23T16:53:38.640Z"
   },
   {
    "duration": 20,
    "start_time": "2024-05-23T16:53:39.255Z"
   },
   {
    "duration": 122,
    "start_time": "2024-05-23T16:53:39.557Z"
   },
   {
    "duration": 61,
    "start_time": "2024-05-23T16:53:40.276Z"
   },
   {
    "duration": 473,
    "start_time": "2024-05-23T16:53:42.225Z"
   },
   {
    "duration": 4252,
    "start_time": "2024-05-23T16:54:51.979Z"
   },
   {
    "duration": 12196,
    "start_time": "2024-05-23T16:56:40.805Z"
   },
   {
    "duration": 233,
    "start_time": "2024-05-23T16:59:04.065Z"
   },
   {
    "duration": 28,
    "start_time": "2024-05-23T17:02:24.201Z"
   },
   {
    "duration": 15,
    "start_time": "2024-05-23T17:06:07.716Z"
   },
   {
    "duration": 1176,
    "start_time": "2024-05-23T23:08:35.073Z"
   },
   {
    "duration": 19,
    "start_time": "2024-05-23T23:08:36.252Z"
   },
   {
    "duration": 22,
    "start_time": "2024-05-23T23:08:36.900Z"
   },
   {
    "duration": 41,
    "start_time": "2024-05-23T23:08:37.604Z"
   },
   {
    "duration": 10,
    "start_time": "2024-05-23T23:08:38.515Z"
   },
   {
    "duration": 5,
    "start_time": "2024-05-23T23:08:39.504Z"
   },
   {
    "duration": 8,
    "start_time": "2024-05-23T23:08:39.831Z"
   },
   {
    "duration": 31,
    "start_time": "2024-05-23T23:08:41.396Z"
   },
   {
    "duration": 616,
    "start_time": "2024-05-23T23:08:42.418Z"
   },
   {
    "duration": 32,
    "start_time": "2024-05-23T23:08:43.927Z"
   },
   {
    "duration": 19,
    "start_time": "2024-05-23T23:08:44.972Z"
   },
   {
    "duration": 129,
    "start_time": "2024-05-23T23:08:46.348Z"
   },
   {
    "duration": 65,
    "start_time": "2024-05-23T23:08:48.169Z"
   },
   {
    "duration": 471,
    "start_time": "2024-05-23T23:08:51.103Z"
   },
   {
    "duration": 4303,
    "start_time": "2024-05-23T23:08:52.682Z"
   },
   {
    "duration": 12102,
    "start_time": "2024-05-23T23:08:57.522Z"
   },
   {
    "duration": 238,
    "start_time": "2024-05-23T23:09:09.633Z"
   },
   {
    "duration": 28,
    "start_time": "2024-05-23T23:09:09.875Z"
   },
   {
    "duration": 16,
    "start_time": "2024-05-23T23:09:12.793Z"
   },
   {
    "duration": 1155,
    "start_time": "2024-05-23T23:14:10.680Z"
   },
   {
    "duration": 12,
    "start_time": "2024-05-23T23:14:11.839Z"
   },
   {
    "duration": 27,
    "start_time": "2024-05-23T23:14:12.239Z"
   },
   {
    "duration": 38,
    "start_time": "2024-05-23T23:14:12.479Z"
   },
   {
    "duration": 11,
    "start_time": "2024-05-23T23:14:12.825Z"
   },
   {
    "duration": 7,
    "start_time": "2024-05-23T23:14:13.212Z"
   },
   {
    "duration": 9,
    "start_time": "2024-05-23T23:14:13.388Z"
   },
   {
    "duration": 25,
    "start_time": "2024-05-23T23:14:13.971Z"
   },
   {
    "duration": 618,
    "start_time": "2024-05-23T23:14:14.347Z"
   },
   {
    "duration": 30,
    "start_time": "2024-05-23T23:14:14.970Z"
   },
   {
    "duration": 20,
    "start_time": "2024-05-23T23:14:15.098Z"
   },
   {
    "duration": 123,
    "start_time": "2024-05-23T23:14:15.324Z"
   },
   {
    "duration": 62,
    "start_time": "2024-05-23T23:14:15.677Z"
   },
   {
    "duration": 491,
    "start_time": "2024-05-23T23:14:16.278Z"
   },
   {
    "duration": 4237,
    "start_time": "2024-05-23T23:14:16.773Z"
   },
   {
    "duration": 12166,
    "start_time": "2024-05-23T23:14:21.013Z"
   },
   {
    "duration": 247,
    "start_time": "2024-05-23T23:14:33.182Z"
   },
   {
    "duration": 28,
    "start_time": "2024-05-23T23:14:33.439Z"
   },
   {
    "duration": 14,
    "start_time": "2024-05-23T23:14:33.470Z"
   },
   {
    "duration": 488,
    "start_time": "2024-05-24T19:31:12.446Z"
   },
   {
    "duration": 1305,
    "start_time": "2024-05-24T19:31:27.921Z"
   },
   {
    "duration": 22,
    "start_time": "2024-05-24T19:31:29.229Z"
   },
   {
    "duration": 25,
    "start_time": "2024-05-24T19:31:35.033Z"
   },
   {
    "duration": 45,
    "start_time": "2024-05-24T19:31:38.382Z"
   },
   {
    "duration": 1194,
    "start_time": "2024-05-25T03:30:18.383Z"
   },
   {
    "duration": 20,
    "start_time": "2024-05-25T03:30:19.580Z"
   },
   {
    "duration": 32,
    "start_time": "2024-05-25T03:30:19.603Z"
   },
   {
    "duration": 39,
    "start_time": "2024-05-25T03:30:19.639Z"
   },
   {
    "duration": 14,
    "start_time": "2024-05-25T03:30:20.970Z"
   },
   {
    "duration": 6,
    "start_time": "2024-05-25T03:30:22.695Z"
   },
   {
    "duration": 11,
    "start_time": "2024-05-25T03:30:23.154Z"
   },
   {
    "duration": 27,
    "start_time": "2024-05-25T03:30:26.058Z"
   },
   {
    "duration": 616,
    "start_time": "2024-05-25T03:30:27.815Z"
   },
   {
    "duration": 38,
    "start_time": "2024-05-25T03:30:35.663Z"
   },
   {
    "duration": 19,
    "start_time": "2024-05-25T03:30:40.975Z"
   },
   {
    "duration": 122,
    "start_time": "2024-05-25T03:30:43.582Z"
   },
   {
    "duration": 61,
    "start_time": "2024-05-25T03:30:48.320Z"
   },
   {
    "duration": 471,
    "start_time": "2024-05-25T03:30:53.367Z"
   },
   {
    "duration": 4229,
    "start_time": "2024-05-25T03:30:55.895Z"
   },
   {
    "duration": 12158,
    "start_time": "2024-05-25T03:31:02.558Z"
   },
   {
    "duration": 236,
    "start_time": "2024-05-25T03:31:18.089Z"
   },
   {
    "duration": 29,
    "start_time": "2024-05-25T03:31:29.584Z"
   },
   {
    "duration": 15,
    "start_time": "2024-05-25T03:31:34.014Z"
   },
   {
    "duration": 23,
    "start_time": "2024-05-25T03:40:28.981Z"
   },
   {
    "duration": 634,
    "start_time": "2024-05-25T03:40:32.225Z"
   },
   {
    "duration": 28,
    "start_time": "2024-05-25T03:40:35.865Z"
   },
   {
    "duration": 314,
    "start_time": "2024-05-26T21:57:37.297Z"
   },
   {
    "duration": 1201,
    "start_time": "2024-05-26T21:57:52.880Z"
   },
   {
    "duration": 19,
    "start_time": "2024-05-26T21:57:54.084Z"
   },
   {
    "duration": 25,
    "start_time": "2024-05-26T21:57:54.679Z"
   },
   {
    "duration": 38,
    "start_time": "2024-05-26T21:57:55.312Z"
   },
   {
    "duration": 11,
    "start_time": "2024-05-26T21:57:57.358Z"
   },
   {
    "duration": 6,
    "start_time": "2024-05-26T21:57:59.142Z"
   },
   {
    "duration": 7,
    "start_time": "2024-05-26T21:57:59.799Z"
   },
   {
    "duration": 24,
    "start_time": "2024-05-26T21:58:02.262Z"
   },
   {
    "duration": 25,
    "start_time": "2024-05-26T21:59:00.335Z"
   },
   {
    "duration": 616,
    "start_time": "2024-05-26T21:59:22.592Z"
   },
   {
    "duration": 29,
    "start_time": "2024-05-26T21:59:46.293Z"
   },
   {
    "duration": 20,
    "start_time": "2024-05-26T21:59:54.730Z"
   },
   {
    "duration": 124,
    "start_time": "2024-05-26T22:00:24.387Z"
   },
   {
    "duration": 1177,
    "start_time": "2024-05-26T23:43:36.478Z"
   },
   {
    "duration": 19,
    "start_time": "2024-05-26T23:43:37.659Z"
   },
   {
    "duration": 23,
    "start_time": "2024-05-26T23:43:38.716Z"
   },
   {
    "duration": 39,
    "start_time": "2024-05-26T23:43:39.513Z"
   },
   {
    "duration": 12,
    "start_time": "2024-05-26T23:43:59.807Z"
   },
   {
    "duration": 5,
    "start_time": "2024-05-26T23:44:02.120Z"
   },
   {
    "duration": 7,
    "start_time": "2024-05-26T23:44:02.734Z"
   },
   {
    "duration": 28,
    "start_time": "2024-05-26T23:44:05.525Z"
   },
   {
    "duration": 631,
    "start_time": "2024-05-26T23:44:09.805Z"
   },
   {
    "duration": 29,
    "start_time": "2024-05-26T23:44:12.303Z"
   },
   {
    "duration": 21,
    "start_time": "2024-05-26T23:44:19.328Z"
   },
   {
    "duration": 121,
    "start_time": "2024-05-26T23:44:39.036Z"
   },
   {
    "duration": 62,
    "start_time": "2024-05-26T23:44:59.089Z"
   },
   {
    "duration": 321,
    "start_time": "2024-05-26T23:45:19.843Z"
   },
   {
    "duration": 1173,
    "start_time": "2024-05-26T23:45:30.774Z"
   },
   {
    "duration": 13,
    "start_time": "2024-05-26T23:45:31.952Z"
   },
   {
    "duration": 23,
    "start_time": "2024-05-26T23:45:32.143Z"
   },
   {
    "duration": 40,
    "start_time": "2024-05-26T23:45:32.720Z"
   },
   {
    "duration": 11,
    "start_time": "2024-05-26T23:45:34.871Z"
   },
   {
    "duration": 5,
    "start_time": "2024-05-26T23:45:37.915Z"
   },
   {
    "duration": 8,
    "start_time": "2024-05-26T23:45:38.744Z"
   },
   {
    "duration": 25,
    "start_time": "2024-05-26T23:45:42.287Z"
   },
   {
    "duration": 630,
    "start_time": "2024-05-26T23:45:44.508Z"
   },
   {
    "duration": 29,
    "start_time": "2024-05-26T23:45:48.647Z"
   },
   {
    "duration": 20,
    "start_time": "2024-05-26T23:45:53.879Z"
   },
   {
    "duration": 123,
    "start_time": "2024-05-26T23:45:57.961Z"
   },
   {
    "duration": 61,
    "start_time": "2024-05-26T23:46:12.135Z"
   },
   {
    "duration": 1242,
    "start_time": "2024-05-26T23:46:27.675Z"
   },
   {
    "duration": 14,
    "start_time": "2024-05-26T23:46:28.922Z"
   },
   {
    "duration": 26,
    "start_time": "2024-05-26T23:46:29.176Z"
   },
   {
    "duration": 44,
    "start_time": "2024-05-26T23:46:29.657Z"
   },
   {
    "duration": 12,
    "start_time": "2024-05-26T23:46:31.148Z"
   },
   {
    "duration": 6,
    "start_time": "2024-05-26T23:46:33.784Z"
   },
   {
    "duration": 11,
    "start_time": "2024-05-26T23:46:34.441Z"
   },
   {
    "duration": 29,
    "start_time": "2024-05-26T23:46:37.752Z"
   },
   {
    "duration": 647,
    "start_time": "2024-05-26T23:46:40.244Z"
   },
   {
    "duration": 31,
    "start_time": "2024-05-26T23:46:43.737Z"
   },
   {
    "duration": 23,
    "start_time": "2024-05-26T23:46:49.250Z"
   },
   {
    "duration": 132,
    "start_time": "2024-05-26T23:46:51.725Z"
   },
   {
    "duration": 65,
    "start_time": "2024-05-26T23:57:45.537Z"
   },
   {
    "duration": 416,
    "start_time": "2024-05-27T01:34:27.337Z"
   },
   {
    "duration": 27,
    "start_time": "2024-05-27T01:34:45.097Z"
   },
   {
    "duration": 321,
    "start_time": "2024-05-27T01:34:57.615Z"
   },
   {
    "duration": 1498,
    "start_time": "2024-05-27T01:35:10.529Z"
   },
   {
    "duration": 30,
    "start_time": "2024-05-27T01:35:12.031Z"
   },
   {
    "duration": 35,
    "start_time": "2024-05-27T01:35:12.066Z"
   },
   {
    "duration": 49,
    "start_time": "2024-05-27T01:35:12.112Z"
   },
   {
    "duration": 25,
    "start_time": "2024-05-27T01:35:12.920Z"
   },
   {
    "duration": 15,
    "start_time": "2024-05-27T01:35:14.828Z"
   },
   {
    "duration": 11,
    "start_time": "2024-05-27T01:35:15.326Z"
   },
   {
    "duration": 29,
    "start_time": "2024-05-27T01:35:17.454Z"
   },
   {
    "duration": 649,
    "start_time": "2024-05-27T01:35:19.163Z"
   },
   {
    "duration": 32,
    "start_time": "2024-05-27T01:35:20.286Z"
   },
   {
    "duration": 20,
    "start_time": "2024-05-27T01:35:25.861Z"
   },
   {
    "duration": 128,
    "start_time": "2024-05-27T01:35:30.148Z"
   },
   {
    "duration": 86,
    "start_time": "2024-05-27T01:35:44.505Z"
   },
   {
    "duration": 536,
    "start_time": "2024-05-27T01:35:47.727Z"
   },
   {
    "duration": 4433,
    "start_time": "2024-05-27T01:35:48.762Z"
   },
   {
    "duration": 12661,
    "start_time": "2024-05-27T01:35:56.143Z"
   },
   {
    "duration": 442,
    "start_time": "2024-05-27T01:36:44.905Z"
   },
   {
    "duration": 1284,
    "start_time": "2024-05-27T01:44:36.313Z"
   },
   {
    "duration": 20,
    "start_time": "2024-05-27T01:44:37.601Z"
   },
   {
    "duration": 29,
    "start_time": "2024-05-27T01:44:37.957Z"
   },
   {
    "duration": 40,
    "start_time": "2024-05-27T01:44:38.636Z"
   },
   {
    "duration": 11,
    "start_time": "2024-05-27T01:44:40.413Z"
   },
   {
    "duration": 6,
    "start_time": "2024-05-27T01:44:43.097Z"
   },
   {
    "duration": 9,
    "start_time": "2024-05-27T01:44:43.782Z"
   },
   {
    "duration": 28,
    "start_time": "2024-05-27T01:44:46.789Z"
   },
   {
    "duration": 663,
    "start_time": "2024-05-27T01:44:50.109Z"
   },
   {
    "duration": 31,
    "start_time": "2024-05-27T01:44:55.913Z"
   },
   {
    "duration": 21,
    "start_time": "2024-05-27T01:45:00.865Z"
   },
   {
    "duration": 146,
    "start_time": "2024-05-27T01:45:04.093Z"
   },
   {
    "duration": 74,
    "start_time": "2024-05-27T01:45:18.925Z"
   },
   {
    "duration": 492,
    "start_time": "2024-05-27T01:45:38.413Z"
   },
   {
    "duration": 4899,
    "start_time": "2024-05-27T01:45:42.254Z"
   },
   {
    "duration": 8,
    "start_time": "2024-05-27T01:45:54.171Z"
   },
   {
    "duration": 12679,
    "start_time": "2024-05-27T01:46:05.262Z"
   },
   {
    "duration": 454,
    "start_time": "2024-05-27T01:47:37.625Z"
   },
   {
    "duration": 419,
    "start_time": "2024-05-27T01:58:45.648Z"
   },
   {
    "duration": 1206,
    "start_time": "2024-05-27T02:12:35.965Z"
   },
   {
    "duration": 18,
    "start_time": "2024-05-27T02:12:37.176Z"
   },
   {
    "duration": 29,
    "start_time": "2024-05-27T02:12:38.277Z"
   },
   {
    "duration": 41,
    "start_time": "2024-05-27T02:12:38.998Z"
   },
   {
    "duration": 11,
    "start_time": "2024-05-27T02:12:41.130Z"
   },
   {
    "duration": 6,
    "start_time": "2024-05-27T02:12:46.539Z"
   },
   {
    "duration": 10,
    "start_time": "2024-05-27T02:12:46.550Z"
   },
   {
    "duration": 1236,
    "start_time": "2024-05-27T02:17:29.836Z"
   },
   {
    "duration": 13,
    "start_time": "2024-05-27T02:17:31.077Z"
   },
   {
    "duration": 35,
    "start_time": "2024-05-27T02:17:31.093Z"
   },
   {
    "duration": 42,
    "start_time": "2024-05-27T02:17:31.134Z"
   },
   {
    "duration": 11,
    "start_time": "2024-05-27T02:17:31.766Z"
   },
   {
    "duration": 6,
    "start_time": "2024-05-27T02:17:33.297Z"
   },
   {
    "duration": 12,
    "start_time": "2024-05-27T02:17:34.031Z"
   },
   {
    "duration": 26,
    "start_time": "2024-05-27T02:17:36.154Z"
   },
   {
    "duration": 662,
    "start_time": "2024-05-27T02:17:38.915Z"
   },
   {
    "duration": 32,
    "start_time": "2024-05-27T02:17:44.133Z"
   },
   {
    "duration": 22,
    "start_time": "2024-05-27T02:17:51.711Z"
   },
   {
    "duration": 140,
    "start_time": "2024-05-27T02:17:54.626Z"
   },
   {
    "duration": 63,
    "start_time": "2024-05-27T02:18:00.179Z"
   },
   {
    "duration": 490,
    "start_time": "2024-05-27T02:18:05.779Z"
   },
   {
    "duration": 4512,
    "start_time": "2024-05-27T02:18:11.963Z"
   },
   {
    "duration": 12732,
    "start_time": "2024-05-27T02:18:18.453Z"
   },
   {
    "duration": 437,
    "start_time": "2024-05-27T02:18:31.193Z"
   },
   {
    "duration": 38,
    "start_time": "2024-05-27T02:18:37.288Z"
   },
   {
    "duration": 24,
    "start_time": "2024-05-27T02:18:52.915Z"
   },
   {
    "duration": 19,
    "start_time": "2024-05-27T02:19:12.441Z"
   },
   {
    "duration": 163,
    "start_time": "2024-05-27T02:20:24.795Z"
   },
   {
    "duration": 291,
    "start_time": "2024-05-27T02:20:36.673Z"
   },
   {
    "duration": 175,
    "start_time": "2024-05-27T02:20:50.734Z"
   },
   {
    "duration": 168,
    "start_time": "2024-05-27T02:21:09.914Z"
   },
   {
    "duration": 526,
    "start_time": "2024-05-27T02:22:11.661Z"
   },
   {
    "duration": 31,
    "start_time": "2024-05-27T02:22:39.420Z"
   },
   {
    "duration": 13,
    "start_time": "2024-05-27T02:33:14.963Z"
   },
   {
    "duration": 13,
    "start_time": "2024-05-27T02:59:27.193Z"
   },
   {
    "duration": 15,
    "start_time": "2024-05-27T02:59:53.490Z"
   },
   {
    "duration": 13,
    "start_time": "2024-05-27T02:59:57.553Z"
   },
   {
    "duration": 11,
    "start_time": "2024-05-27T03:00:00.894Z"
   },
   {
    "duration": 11,
    "start_time": "2024-05-27T03:28:07.077Z"
   },
   {
    "duration": 31,
    "start_time": "2024-05-27T03:29:25.000Z"
   },
   {
    "duration": 30,
    "start_time": "2024-05-27T03:29:28.033Z"
   },
   {
    "duration": 34,
    "start_time": "2024-05-27T03:29:31.228Z"
   },
   {
    "duration": 649,
    "start_time": "2024-05-27T03:29:35.448Z"
   },
   {
    "duration": 29,
    "start_time": "2024-05-27T03:30:12.885Z"
   },
   {
    "duration": 24,
    "start_time": "2024-05-27T03:31:16.561Z"
   },
   {
    "duration": 22,
    "start_time": "2024-05-27T03:31:20.054Z"
   },
   {
    "duration": 70,
    "start_time": "2024-05-27T03:32:43.356Z"
   },
   {
    "duration": 70,
    "start_time": "2024-05-27T03:32:48.429Z"
   },
   {
    "duration": 71,
    "start_time": "2024-05-27T03:33:29.145Z"
   },
   {
    "duration": 71,
    "start_time": "2024-05-27T03:33:32.998Z"
   },
   {
    "duration": 77,
    "start_time": "2024-05-27T03:33:47.325Z"
   },
   {
    "duration": 71,
    "start_time": "2024-05-27T03:34:32.325Z"
   }
  ],
  "kernelspec": {
   "display_name": "Python 3 (ipykernel)",
   "language": "python",
   "name": "python3"
  },
  "language_info": {
   "codemirror_mode": {
    "name": "ipython",
    "version": 3
   },
   "file_extension": ".py",
   "mimetype": "text/x-python",
   "name": "python",
   "nbconvert_exporter": "python",
   "pygments_lexer": "ipython3",
   "version": "3.9.19"
  },
  "toc": {
   "base_numbering": 1,
   "nav_menu": {},
   "number_sections": true,
   "sideBar": true,
   "skip_h1_title": true,
   "title_cell": "Table of Contents",
   "title_sidebar": "Contents",
   "toc_cell": false,
   "toc_position": {},
   "toc_section_display": true,
   "toc_window_display": false
  }
 },
 "nbformat": 4,
 "nbformat_minor": 2
}
